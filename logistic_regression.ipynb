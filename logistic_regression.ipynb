{
  "nbformat": 4,
  "nbformat_minor": 0,
  "metadata": {
    "colab": {
      "name": "cs4248_logistic_regression.ipynb",
      "provenance": [],
      "collapsed_sections": []
    },
    "kernelspec": {
      "name": "python3",
      "display_name": "Python 3"
    },
    "language_info": {
      "name": "python"
    }
  },
  "cells": [
    {
      "cell_type": "markdown",
      "source": [
        "Instruction to run program:\n",
        "1. open this jupyter notebook on google colab\n",
        "2. run code from top to bottom. might need to edit path for loading dataset"
      ],
      "metadata": {
        "id": "tpQQPAxrQwfw"
      }
    },
    {
      "cell_type": "code",
      "execution_count": 1,
      "metadata": {
        "id": "IS0JjqTEGFNv"
      },
      "outputs": [],
      "source": [
        "# import libraries\n",
        "import pandas as pd\n",
        "import numpy as np\n",
        "import matplotlib.pyplot as plt\n",
        "from sklearn.model_selection import train_test_split\n",
        "from sklearn.preprocessing import LabelEncoder\n",
        "from sklearn.feature_extraction.text import TfidfVectorizer\n",
        "from sklearn.linear_model import LogisticRegression\n",
        "from sklearn.metrics import precision_recall_fscore_support\n",
        "from sklearn.model_selection import RepeatedStratifiedKFold\n",
        "from sklearn.model_selection import GridSearchCV\n",
        "from sklearn.metrics import accuracy_score\n",
        "\n",
        "%matplotlib inline\n"
      ]
    },
    {
      "cell_type": "code",
      "source": [
        "# connect to google drive\n",
        "from google.colab import drive\n",
        "drive.mount('/content/gdrive')"
      ],
      "metadata": {
        "colab": {
          "base_uri": "https://localhost:8080/"
        },
        "id": "83REe6eHGUZC",
        "outputId": "1c024099-7a04-4a37-aa05-de92b4884f6f"
      },
      "execution_count": 2,
      "outputs": [
        {
          "output_type": "stream",
          "name": "stdout",
          "text": [
            "Mounted at /content/gdrive\n"
          ]
        }
      ]
    },
    {
      "cell_type": "code",
      "source": [
        "# load data\n",
        "%cd /content/gdrive/My Drive/Colab Notebooks/CS4248_group_project/raw_data\n",
        "fulltrain = pd.read_csv(\"fulltrain.csv\", names=['label', 'text'])\n",
        "balancedtest = pd.read_csv(\"balancedtest.csv\", names=['label', 'text'])\n",
        "\n",
        "# Print number of rows per dataset\n",
        "print(f\"fulltrain:  Loaded {len(fulltrain.index)} rows\")\n",
        "print(f\"balancedtest: Loaded {len(balancedtest.index)} rows\")"
      ],
      "metadata": {
        "colab": {
          "base_uri": "https://localhost:8080/"
        },
        "id": "niRr_A6rGWtw",
        "outputId": "85ab03e1-009d-4e45-8ee3-7c56cce4d32d"
      },
      "execution_count": 3,
      "outputs": [
        {
          "output_type": "stream",
          "name": "stdout",
          "text": [
            "/content/gdrive/My Drive/Colab Notebooks/CS4248_group_project/raw_data\n",
            "fulltrain:  Loaded 48854 rows\n",
            "balancedtest: Loaded 3000 rows\n"
          ]
        }
      ]
    },
    {
      "cell_type": "code",
      "source": [
        "# process training data\n",
        "trainX = fulltrain['text']\n",
        "trainY = fulltrain['label']\n",
        "\n",
        "# feature engineering, tf-idf\n",
        "vectorizer = TfidfVectorizer()\n",
        "vectorizer.fit(trainX)\n",
        "trainX = vectorizer.transform(trainX)\n",
        "print(trainX.shape)\n",
        "print(trainY.shape)"
      ],
      "metadata": {
        "colab": {
          "base_uri": "https://localhost:8080/"
        },
        "id": "_tFFowulGYQ6",
        "outputId": "7a2268e9-ea22-4e30-a0f1-f96a407c6edb"
      },
      "execution_count": 5,
      "outputs": [
        {
          "output_type": "stream",
          "name": "stdout",
          "text": [
            "(48854, 229597)\n",
            "(48854,)\n"
          ]
        }
      ]
    },
    {
      "cell_type": "code",
      "source": [
        "# # model, find best hyper-parameter\n",
        "# model = LogisticRegression()\n",
        "# # use cross validation to find a best hyper parameters\n",
        "# solvers = ['newton-cg', 'lbfgs', 'liblinear']\n",
        "# penalty = ['l2']\n",
        "# c_values = [100, 10, 1.0, 0.1, 0.01]\n",
        "# # define grid search\n",
        "# grid = dict(solver=solvers, penalty=penalty, C=c_values)\n",
        "# cv = RepeatedStratifiedKFold(n_splits=10, n_repeats=3, random_state=1)\n",
        "# grid_search = GridSearchCV(estimator=model, param_grid=grid, n_jobs=-1, cv=cv, scoring='accuracy', error_score=0)\n",
        "# grid_result = grid_search.fit(trainX, trainY)\n",
        "# # summarize results\n",
        "# print(\"Best: %f using %s\" % (grid_result.best_score_, grid_result.best_params_))\n",
        "# means = grid_result.cv_results_['mean_test_score']\n",
        "# stds = grid_result.cv_results_['std_test_score']\n",
        "# params = grid_result.cv_results_['params']\n",
        "# for mean, stdev, param in zip(means, stds, params):\n",
        "#   print(\"%f (%f) with: %r\" % (mean, stdev, param))\n",
        "# model = grid_result.best_estimator_\n"
      ],
      "metadata": {
        "id": "dN1lwDanGwi7"
      },
      "execution_count": 6,
      "outputs": []
    },
    {
      "cell_type": "code",
      "source": [
        "# fit model based on test data, \n",
        "# params are chosen based on hyperparam tuning using GridSearchCV from sklearn\n",
        "# default max_iter leads to underfit, thus set to 5000\n",
        "model = LogisticRegression(C=10, penalty='l2', solver='liblinear', max_iter=5000)\n",
        "model.fit(trainX, trainY)\n"
      ],
      "metadata": {
        "colab": {
          "base_uri": "https://localhost:8080/"
        },
        "id": "NrSsbMp-Gsdm",
        "outputId": "40f31c3b-ae8d-4751-8547-7286f544f3c9"
      },
      "execution_count": 7,
      "outputs": [
        {
          "output_type": "execute_result",
          "data": {
            "text/plain": [
              "LogisticRegression(C=10, max_iter=5000, solver='liblinear')"
            ]
          },
          "metadata": {},
          "execution_count": 7
        }
      ]
    },
    {
      "cell_type": "code",
      "source": [
        "# process test data\n",
        "testX = balancedtest['text']\n",
        "testY = balancedtest['label']\n",
        "testX = vectorizer.transform(testX)"
      ],
      "metadata": {
        "id": "3EjIW2siGxir"
      },
      "execution_count": 8,
      "outputs": []
    },
    {
      "cell_type": "code",
      "source": [
        "# test model\n",
        "result = model.predict(testX)\n",
        "metrics = precision_recall_fscore_support(testY, result, average='macro')\n",
        "print(\"precision, recall, fscore:\")\n",
        "print(metrics)\n",
        "acc = accuracy_score(testY, result)\n",
        "print(\"accuracy:\")\n",
        "print(acc)\n"
      ],
      "metadata": {
        "colab": {
          "base_uri": "https://localhost:8080/"
        },
        "id": "Q9A7sfgvGzu6",
        "outputId": "41ca46e7-77f6-4137-8011-f84aab9ac0ea"
      },
      "execution_count": 9,
      "outputs": [
        {
          "output_type": "stream",
          "name": "stdout",
          "text": [
            "precision, recall, fscore:\n",
            "(0.7665878365648181, 0.7366666666666666, 0.7247357875908803, None)\n",
            "accuracy:\n",
            "0.7366666666666667\n"
          ]
        }
      ]
    },
    {
      "cell_type": "code",
      "source": [
        ""
      ],
      "metadata": {
        "id": "i8Ax89WdNxnI"
      },
      "execution_count": null,
      "outputs": []
    }
  ]
}